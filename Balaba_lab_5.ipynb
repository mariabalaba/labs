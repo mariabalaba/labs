{
  "nbformat": 4,
  "nbformat_minor": 0,
  "metadata": {
    "colab": {
      "name": "Balaba lab 5.ipynb",
      "provenance": [],
      "collapsed_sections": [
        "YcQyT7labB8y",
        "faokDFxqbIfT",
        "02egP6g1bLQT"
      ],
      "authorship_tag": "ABX9TyO2XJmQMcuaBIqp4puPZXtg",
      "include_colab_link": true
    },
    "kernelspec": {
      "name": "python3",
      "display_name": "Python 3"
    },
    "language_info": {
      "name": "python"
    }
  },
  "cells": [
    {
      "cell_type": "markdown",
      "metadata": {
        "id": "view-in-github",
        "colab_type": "text"
      },
      "source": [
        "<a href=\"https://colab.research.google.com/github/mariabalaba/labs/blob/main/Balaba_lab_5.ipynb\" target=\"_parent\"><img src=\"https://colab.research.google.com/assets/colab-badge.svg\" alt=\"Open In Colab\"/></a>"
      ]
    },
    {
      "cell_type": "markdown",
      "metadata": {
        "id": "QPuexp4VbdLH"
      },
      "source": [
        "![image.png](data:image/png;base64,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)"
      ]
    },
    {
      "cell_type": "code",
      "metadata": {
        "id": "TlnW3XvLS5bT"
      },
      "source": [
        "#подключаем все библиотеки\n",
        "import matplotlib.pyplot as plt\n",
        "import pandas as pd\n",
        "import numpy as np\n",
        "import seaborn as sns"
      ],
      "execution_count": null,
      "outputs": []
    },
    {
      "cell_type": "code",
      "metadata": {
        "colab": {
          "resources": {
            "http://localhost:8080/nbextensions/google.colab/files.js": {
              "data": "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",
              "ok": true,
              "headers": [
                [
                  "content-type",
                  "application/javascript"
                ]
              ],
              "status": 200,
              "status_text": ""
            }
          },
          "base_uri": "https://localhost:8080/",
          "height": 72
        },
        "id": "802EWMTkS_Fj",
        "outputId": "76339664-bcd0-416a-f5ae-35a6f03687e2"
      },
      "source": [
        "from google.colab import files\n",
        "uploaded = files.upload()"
      ],
      "execution_count": null,
      "outputs": [
        {
          "output_type": "display_data",
          "data": {
            "text/html": [
              "\n",
              "     <input type=\"file\" id=\"files-cf48f891-2819-4945-878d-58f4119d05a0\" name=\"files[]\" multiple disabled\n",
              "        style=\"border:none\" />\n",
              "     <output id=\"result-cf48f891-2819-4945-878d-58f4119d05a0\">\n",
              "      Upload widget is only available when the cell has been executed in the\n",
              "      current browser session. Please rerun this cell to enable.\n",
              "      </output>\n",
              "      <script src=\"/nbextensions/google.colab/files.js\"></script> "
            ],
            "text/plain": [
              "<IPython.core.display.HTML object>"
            ]
          },
          "metadata": {
            "tags": []
          }
        },
        {
          "output_type": "stream",
          "text": [
            "Saving hfi_cc_2020.csv to hfi_cc_2020 (2).csv\n"
          ],
          "name": "stdout"
        }
      ]
    },
    {
      "cell_type": "code",
      "metadata": {
        "colab": {
          "base_uri": "https://localhost:8080/",
          "height": 355
        },
        "id": "yB2peUVBTK3D",
        "outputId": "9a0570e4-f97f-485b-b2ef-22e5d8f50761"
      },
      "source": [
        "df = pd.read_csv('hfi_cc_2020.csv')\n",
        "df.head()"
      ],
      "execution_count": null,
      "outputs": [
        {
          "output_type": "execute_result",
          "data": {
            "text/html": [
              "<div>\n",
              "<style scoped>\n",
              "    .dataframe tbody tr th:only-of-type {\n",
              "        vertical-align: middle;\n",
              "    }\n",
              "\n",
              "    .dataframe tbody tr th {\n",
              "        vertical-align: top;\n",
              "    }\n",
              "\n",
              "    .dataframe thead th {\n",
              "        text-align: right;\n",
              "    }\n",
              "</style>\n",
              "<table border=\"1\" class=\"dataframe\">\n",
              "  <thead>\n",
              "    <tr style=\"text-align: right;\">\n",
              "      <th></th>\n",
              "      <th>Unnamed: 0</th>\n",
              "      <th>year</th>\n",
              "      <th>ISO_code</th>\n",
              "      <th>countries</th>\n",
              "      <th>region</th>\n",
              "      <th>hf_score</th>\n",
              "      <th>hf_rank</th>\n",
              "      <th>hf_quartile</th>\n",
              "      <th>pf_rol_procedural</th>\n",
              "      <th>pf_rol_civil</th>\n",
              "      <th>pf_rol_criminal</th>\n",
              "      <th>pf_rol</th>\n",
              "      <th>pf_ss_homicide</th>\n",
              "      <th>pf_ss_disappearances_disap</th>\n",
              "      <th>pf_ss_disappearances_violent</th>\n",
              "      <th>pf_ss_disappearances_organized</th>\n",
              "      <th>pf_ss_disappearances_fatalities</th>\n",
              "      <th>pf_ss_disappearances_injuries</th>\n",
              "      <th>pf_ss_disappearances</th>\n",
              "      <th>pf_ss_women_fgm</th>\n",
              "      <th>pf_ss_women_inheritance</th>\n",
              "      <th>pf_ss_women</th>\n",
              "      <th>pf_ss</th>\n",
              "      <th>pf_movement_domestic</th>\n",
              "      <th>pf_movement_foreign</th>\n",
              "      <th>pf_movement_women</th>\n",
              "      <th>pf_movement</th>\n",
              "      <th>pf_religion_freedom</th>\n",
              "      <th>pf_religion_repression</th>\n",
              "      <th>pf_religion_harassment</th>\n",
              "      <th>pf_religion_restrictions</th>\n",
              "      <th>pf_religion</th>\n",
              "      <th>pf_association_entry</th>\n",
              "      <th>pf_association_assembly</th>\n",
              "      <th>pf_association_barries</th>\n",
              "      <th>pf_association_bans</th>\n",
              "      <th>pf_association_estopparties</th>\n",
              "      <th>pf_association_opposition</th>\n",
              "      <th>pf_association_civilrepression</th>\n",
              "      <th>pf_association</th>\n",
              "      <th>...</th>\n",
              "      <th>ef_money_growth</th>\n",
              "      <th>ef_money_sd</th>\n",
              "      <th>ef_money_inflation</th>\n",
              "      <th>ef_money_currency</th>\n",
              "      <th>ef_money</th>\n",
              "      <th>ef_trade_tariffs_revenue</th>\n",
              "      <th>ef_trade_tariffs_mean</th>\n",
              "      <th>ef_trade_tariffs_sd</th>\n",
              "      <th>ef_trade_tariffs</th>\n",
              "      <th>ef_trade_regulatory_nontariff</th>\n",
              "      <th>ef_trade_regulatory_compliance</th>\n",
              "      <th>ef_trade_regulatory</th>\n",
              "      <th>ef_trade_black</th>\n",
              "      <th>ef_trade_movement_foreign</th>\n",
              "      <th>ef_trade_movement_capital</th>\n",
              "      <th>ef_trade_movement_visit</th>\n",
              "      <th>ef_trade_movement</th>\n",
              "      <th>ef_trade</th>\n",
              "      <th>ef_regulation_credit_ownership</th>\n",
              "      <th>ef_regulation_credit_private</th>\n",
              "      <th>ef_regulation_credit_interest</th>\n",
              "      <th>ef_regulation_credit</th>\n",
              "      <th>ef_regulation_labor_minwage</th>\n",
              "      <th>ef_regulation_labor_firing</th>\n",
              "      <th>ef_regulation_labor_bargain</th>\n",
              "      <th>ef_regulation_labor_hours</th>\n",
              "      <th>ef_regulation_labor_dismissal</th>\n",
              "      <th>ef_regulation_labor_conscription</th>\n",
              "      <th>ef_regulation_labor</th>\n",
              "      <th>ef_regulation_business_adm</th>\n",
              "      <th>ef_regulation_business_bureaucracy</th>\n",
              "      <th>ef_regulation_business_start</th>\n",
              "      <th>ef_regulation_business_bribes</th>\n",
              "      <th>ef_regulation_business_licensing</th>\n",
              "      <th>ef_regulation_business_compliance</th>\n",
              "      <th>ef_regulation_business</th>\n",
              "      <th>ef_regulation</th>\n",
              "      <th>ef_score</th>\n",
              "      <th>ef_rank</th>\n",
              "      <th>womens_freedom</th>\n",
              "    </tr>\n",
              "  </thead>\n",
              "  <tbody>\n",
              "    <tr>\n",
              "      <th>0</th>\n",
              "      <td>0</td>\n",
              "      <td>2018</td>\n",
              "      <td>ALB</td>\n",
              "      <td>Albania</td>\n",
              "      <td>Eastern Europe</td>\n",
              "      <td>7.81</td>\n",
              "      <td>43.0</td>\n",
              "      <td>2.0</td>\n",
              "      <td>6.0</td>\n",
              "      <td>4.8</td>\n",
              "      <td>4.3</td>\n",
              "      <td>5.0</td>\n",
              "      <td>9.1</td>\n",
              "      <td>10.0</td>\n",
              "      <td>10.0</td>\n",
              "      <td>10.0</td>\n",
              "      <td>10.0</td>\n",
              "      <td>10.0</td>\n",
              "      <td>10.0</td>\n",
              "      <td>10.0</td>\n",
              "      <td>7.5</td>\n",
              "      <td>8.8</td>\n",
              "      <td>9.3</td>\n",
              "      <td>10.0</td>\n",
              "      <td>10.0</td>\n",
              "      <td>10.0</td>\n",
              "      <td>10.0</td>\n",
              "      <td>9.0</td>\n",
              "      <td>9.0</td>\n",
              "      <td>9.6</td>\n",
              "      <td>8.0</td>\n",
              "      <td>8.9</td>\n",
              "      <td>8.8</td>\n",
              "      <td>10.0</td>\n",
              "      <td>7.8</td>\n",
              "      <td>8.2</td>\n",
              "      <td>8.0</td>\n",
              "      <td>7.8</td>\n",
              "      <td>8.2</td>\n",
              "      <td>8.6</td>\n",
              "      <td>...</td>\n",
              "      <td>10.0</td>\n",
              "      <td>9.7</td>\n",
              "      <td>9.6</td>\n",
              "      <td>10.0</td>\n",
              "      <td>9.8</td>\n",
              "      <td>9.7</td>\n",
              "      <td>9.3</td>\n",
              "      <td>8.1</td>\n",
              "      <td>9.0</td>\n",
              "      <td>6.8</td>\n",
              "      <td>9.4</td>\n",
              "      <td>8.1</td>\n",
              "      <td>10.0</td>\n",
              "      <td>4.2</td>\n",
              "      <td>4.6</td>\n",
              "      <td>8.3</td>\n",
              "      <td>5.7</td>\n",
              "      <td>8.2</td>\n",
              "      <td>10.0</td>\n",
              "      <td>9.2</td>\n",
              "      <td>10.0</td>\n",
              "      <td>9.7</td>\n",
              "      <td>5.6</td>\n",
              "      <td>4.9</td>\n",
              "      <td>5.6</td>\n",
              "      <td>8.0</td>\n",
              "      <td>6.3</td>\n",
              "      <td>10.0</td>\n",
              "      <td>6.7</td>\n",
              "      <td>5.7</td>\n",
              "      <td>6.7</td>\n",
              "      <td>9.7</td>\n",
              "      <td>5.4</td>\n",
              "      <td>5.6</td>\n",
              "      <td>7.2</td>\n",
              "      <td>6.7</td>\n",
              "      <td>7.7</td>\n",
              "      <td>7.80</td>\n",
              "      <td>26.0</td>\n",
              "      <td>9.26</td>\n",
              "    </tr>\n",
              "    <tr>\n",
              "      <th>1</th>\n",
              "      <td>1</td>\n",
              "      <td>2017</td>\n",
              "      <td>ALB</td>\n",
              "      <td>Albania</td>\n",
              "      <td>Eastern Europe</td>\n",
              "      <td>7.78</td>\n",
              "      <td>44.0</td>\n",
              "      <td>2.0</td>\n",
              "      <td>6.3</td>\n",
              "      <td>4.4</td>\n",
              "      <td>4.7</td>\n",
              "      <td>5.3</td>\n",
              "      <td>9.1</td>\n",
              "      <td>10.0</td>\n",
              "      <td>10.0</td>\n",
              "      <td>10.0</td>\n",
              "      <td>10.0</td>\n",
              "      <td>10.0</td>\n",
              "      <td>10.0</td>\n",
              "      <td>10.0</td>\n",
              "      <td>7.5</td>\n",
              "      <td>8.8</td>\n",
              "      <td>9.3</td>\n",
              "      <td>10.0</td>\n",
              "      <td>10.0</td>\n",
              "      <td>10.0</td>\n",
              "      <td>10.0</td>\n",
              "      <td>8.2</td>\n",
              "      <td>9.0</td>\n",
              "      <td>9.6</td>\n",
              "      <td>8.0</td>\n",
              "      <td>8.7</td>\n",
              "      <td>7.9</td>\n",
              "      <td>10.0</td>\n",
              "      <td>8.0</td>\n",
              "      <td>8.2</td>\n",
              "      <td>8.1</td>\n",
              "      <td>7.9</td>\n",
              "      <td>8.3</td>\n",
              "      <td>8.4</td>\n",
              "      <td>...</td>\n",
              "      <td>9.2</td>\n",
              "      <td>9.7</td>\n",
              "      <td>9.6</td>\n",
              "      <td>10.0</td>\n",
              "      <td>9.6</td>\n",
              "      <td>9.6</td>\n",
              "      <td>9.3</td>\n",
              "      <td>8.1</td>\n",
              "      <td>9.0</td>\n",
              "      <td>6.0</td>\n",
              "      <td>9.4</td>\n",
              "      <td>7.7</td>\n",
              "      <td>10.0</td>\n",
              "      <td>4.2</td>\n",
              "      <td>5.4</td>\n",
              "      <td>8.3</td>\n",
              "      <td>5.9</td>\n",
              "      <td>8.2</td>\n",
              "      <td>10.0</td>\n",
              "      <td>9.1</td>\n",
              "      <td>10.0</td>\n",
              "      <td>9.7</td>\n",
              "      <td>5.6</td>\n",
              "      <td>5.4</td>\n",
              "      <td>6.4</td>\n",
              "      <td>8.0</td>\n",
              "      <td>6.3</td>\n",
              "      <td>10.0</td>\n",
              "      <td>6.9</td>\n",
              "      <td>6.3</td>\n",
              "      <td>6.7</td>\n",
              "      <td>9.7</td>\n",
              "      <td>6.0</td>\n",
              "      <td>6.0</td>\n",
              "      <td>7.2</td>\n",
              "      <td>7.0</td>\n",
              "      <td>7.9</td>\n",
              "      <td>7.70</td>\n",
              "      <td>36.0</td>\n",
              "      <td>9.26</td>\n",
              "    </tr>\n",
              "    <tr>\n",
              "      <th>2</th>\n",
              "      <td>2</td>\n",
              "      <td>2016</td>\n",
              "      <td>ALB</td>\n",
              "      <td>Albania</td>\n",
              "      <td>Eastern Europe</td>\n",
              "      <td>7.63</td>\n",
              "      <td>50.0</td>\n",
              "      <td>2.0</td>\n",
              "      <td>6.7</td>\n",
              "      <td>4.5</td>\n",
              "      <td>4.7</td>\n",
              "      <td>5.3</td>\n",
              "      <td>8.6</td>\n",
              "      <td>10.0</td>\n",
              "      <td>10.0</td>\n",
              "      <td>10.0</td>\n",
              "      <td>10.0</td>\n",
              "      <td>10.0</td>\n",
              "      <td>10.0</td>\n",
              "      <td>10.0</td>\n",
              "      <td>5.0</td>\n",
              "      <td>7.5</td>\n",
              "      <td>8.7</td>\n",
              "      <td>10.0</td>\n",
              "      <td>10.0</td>\n",
              "      <td>5.0</td>\n",
              "      <td>8.3</td>\n",
              "      <td>9.0</td>\n",
              "      <td>8.9</td>\n",
              "      <td>9.6</td>\n",
              "      <td>8.0</td>\n",
              "      <td>8.9</td>\n",
              "      <td>7.9</td>\n",
              "      <td>10.0</td>\n",
              "      <td>8.0</td>\n",
              "      <td>8.2</td>\n",
              "      <td>8.1</td>\n",
              "      <td>8.0</td>\n",
              "      <td>8.3</td>\n",
              "      <td>8.5</td>\n",
              "      <td>...</td>\n",
              "      <td>9.0</td>\n",
              "      <td>9.5</td>\n",
              "      <td>9.7</td>\n",
              "      <td>10.0</td>\n",
              "      <td>9.6</td>\n",
              "      <td>9.6</td>\n",
              "      <td>9.2</td>\n",
              "      <td>8.0</td>\n",
              "      <td>9.0</td>\n",
              "      <td>5.6</td>\n",
              "      <td>9.4</td>\n",
              "      <td>7.5</td>\n",
              "      <td>10.0</td>\n",
              "      <td>4.2</td>\n",
              "      <td>4.6</td>\n",
              "      <td>8.3</td>\n",
              "      <td>5.7</td>\n",
              "      <td>8.0</td>\n",
              "      <td>10.0</td>\n",
              "      <td>7.3</td>\n",
              "      <td>9.0</td>\n",
              "      <td>8.8</td>\n",
              "      <td>5.6</td>\n",
              "      <td>5.4</td>\n",
              "      <td>6.2</td>\n",
              "      <td>8.0</td>\n",
              "      <td>6.3</td>\n",
              "      <td>10.0</td>\n",
              "      <td>6.9</td>\n",
              "      <td>6.1</td>\n",
              "      <td>6.0</td>\n",
              "      <td>9.7</td>\n",
              "      <td>6.0</td>\n",
              "      <td>7.3</td>\n",
              "      <td>7.1</td>\n",
              "      <td>7.0</td>\n",
              "      <td>7.6</td>\n",
              "      <td>7.69</td>\n",
              "      <td>36.0</td>\n",
              "      <td>7.50</td>\n",
              "    </tr>\n",
              "    <tr>\n",
              "      <th>3</th>\n",
              "      <td>3</td>\n",
              "      <td>2015</td>\n",
              "      <td>ALB</td>\n",
              "      <td>Albania</td>\n",
              "      <td>Eastern Europe</td>\n",
              "      <td>7.55</td>\n",
              "      <td>52.0</td>\n",
              "      <td>2.0</td>\n",
              "      <td>6.7</td>\n",
              "      <td>4.5</td>\n",
              "      <td>4.7</td>\n",
              "      <td>5.2</td>\n",
              "      <td>8.9</td>\n",
              "      <td>10.0</td>\n",
              "      <td>10.0</td>\n",
              "      <td>10.0</td>\n",
              "      <td>10.0</td>\n",
              "      <td>10.0</td>\n",
              "      <td>10.0</td>\n",
              "      <td>10.0</td>\n",
              "      <td>5.0</td>\n",
              "      <td>7.5</td>\n",
              "      <td>8.8</td>\n",
              "      <td>5.0</td>\n",
              "      <td>10.0</td>\n",
              "      <td>5.0</td>\n",
              "      <td>6.7</td>\n",
              "      <td>9.0</td>\n",
              "      <td>8.9</td>\n",
              "      <td>9.2</td>\n",
              "      <td>8.5</td>\n",
              "      <td>8.9</td>\n",
              "      <td>7.9</td>\n",
              "      <td>10.0</td>\n",
              "      <td>8.0</td>\n",
              "      <td>8.2</td>\n",
              "      <td>8.1</td>\n",
              "      <td>8.0</td>\n",
              "      <td>8.3</td>\n",
              "      <td>8.5</td>\n",
              "      <td>...</td>\n",
              "      <td>9.3</td>\n",
              "      <td>9.4</td>\n",
              "      <td>9.6</td>\n",
              "      <td>10.0</td>\n",
              "      <td>9.6</td>\n",
              "      <td>9.3</td>\n",
              "      <td>9.2</td>\n",
              "      <td>8.0</td>\n",
              "      <td>8.9</td>\n",
              "      <td>5.4</td>\n",
              "      <td>9.4</td>\n",
              "      <td>7.4</td>\n",
              "      <td>10.0</td>\n",
              "      <td>4.2</td>\n",
              "      <td>4.6</td>\n",
              "      <td>8.3</td>\n",
              "      <td>5.7</td>\n",
              "      <td>8.0</td>\n",
              "      <td>10.0</td>\n",
              "      <td>7.6</td>\n",
              "      <td>10.0</td>\n",
              "      <td>9.2</td>\n",
              "      <td>5.6</td>\n",
              "      <td>5.0</td>\n",
              "      <td>6.1</td>\n",
              "      <td>8.0</td>\n",
              "      <td>6.3</td>\n",
              "      <td>10.0</td>\n",
              "      <td>6.8</td>\n",
              "      <td>6.1</td>\n",
              "      <td>6.0</td>\n",
              "      <td>9.7</td>\n",
              "      <td>6.0</td>\n",
              "      <td>7.3</td>\n",
              "      <td>7.1</td>\n",
              "      <td>7.0</td>\n",
              "      <td>7.7</td>\n",
              "      <td>7.70</td>\n",
              "      <td>34.0</td>\n",
              "      <td>7.50</td>\n",
              "    </tr>\n",
              "    <tr>\n",
              "      <th>4</th>\n",
              "      <td>4</td>\n",
              "      <td>2014</td>\n",
              "      <td>ALB</td>\n",
              "      <td>Albania</td>\n",
              "      <td>Eastern Europe</td>\n",
              "      <td>7.65</td>\n",
              "      <td>48.0</td>\n",
              "      <td>2.0</td>\n",
              "      <td>6.1</td>\n",
              "      <td>4.8</td>\n",
              "      <td>4.6</td>\n",
              "      <td>5.0</td>\n",
              "      <td>8.4</td>\n",
              "      <td>10.0</td>\n",
              "      <td>10.0</td>\n",
              "      <td>10.0</td>\n",
              "      <td>9.9</td>\n",
              "      <td>9.9</td>\n",
              "      <td>9.9</td>\n",
              "      <td>10.0</td>\n",
              "      <td>5.0</td>\n",
              "      <td>7.5</td>\n",
              "      <td>8.6</td>\n",
              "      <td>5.0</td>\n",
              "      <td>10.0</td>\n",
              "      <td>5.0</td>\n",
              "      <td>6.7</td>\n",
              "      <td>9.0</td>\n",
              "      <td>8.9</td>\n",
              "      <td>9.7</td>\n",
              "      <td>9.9</td>\n",
              "      <td>9.4</td>\n",
              "      <td>7.9</td>\n",
              "      <td>10.0</td>\n",
              "      <td>8.0</td>\n",
              "      <td>8.2</td>\n",
              "      <td>8.1</td>\n",
              "      <td>8.0</td>\n",
              "      <td>8.3</td>\n",
              "      <td>8.5</td>\n",
              "      <td>...</td>\n",
              "      <td>9.4</td>\n",
              "      <td>9.4</td>\n",
              "      <td>9.7</td>\n",
              "      <td>10.0</td>\n",
              "      <td>9.6</td>\n",
              "      <td>9.4</td>\n",
              "      <td>9.2</td>\n",
              "      <td>8.0</td>\n",
              "      <td>8.9</td>\n",
              "      <td>6.3</td>\n",
              "      <td>9.2</td>\n",
              "      <td>7.7</td>\n",
              "      <td>10.0</td>\n",
              "      <td>4.2</td>\n",
              "      <td>4.6</td>\n",
              "      <td>8.3</td>\n",
              "      <td>5.7</td>\n",
              "      <td>8.1</td>\n",
              "      <td>10.0</td>\n",
              "      <td>8.0</td>\n",
              "      <td>10.0</td>\n",
              "      <td>9.3</td>\n",
              "      <td>5.6</td>\n",
              "      <td>6.1</td>\n",
              "      <td>7.2</td>\n",
              "      <td>8.0</td>\n",
              "      <td>6.3</td>\n",
              "      <td>10.0</td>\n",
              "      <td>7.2</td>\n",
              "      <td>5.9</td>\n",
              "      <td>6.0</td>\n",
              "      <td>9.7</td>\n",
              "      <td>6.0</td>\n",
              "      <td>7.2</td>\n",
              "      <td>6.0</td>\n",
              "      <td>6.8</td>\n",
              "      <td>7.8</td>\n",
              "      <td>7.65</td>\n",
              "      <td>37.0</td>\n",
              "      <td>7.50</td>\n",
              "    </tr>\n",
              "  </tbody>\n",
              "</table>\n",
              "<p>5 rows × 113 columns</p>\n",
              "</div>"
            ],
            "text/plain": [
              "   Unnamed: 0  year ISO_code  ... ef_score ef_rank  womens_freedom\n",
              "0           0  2018      ALB  ...     7.80    26.0            9.26\n",
              "1           1  2017      ALB  ...     7.70    36.0            9.26\n",
              "2           2  2016      ALB  ...     7.69    36.0            7.50\n",
              "3           3  2015      ALB  ...     7.70    34.0            7.50\n",
              "4           4  2014      ALB  ...     7.65    37.0            7.50\n",
              "\n",
              "[5 rows x 113 columns]"
            ]
          },
          "metadata": {
            "tags": []
          },
          "execution_count": 5
        }
      ]
    },
    {
      "cell_type": "code",
      "metadata": {
        "colab": {
          "base_uri": "https://localhost:8080/"
        },
        "id": "saQV3qEQYxDV",
        "outputId": "fcdf6efa-bfc4-423b-bbde-0153f214f67a"
      },
      "source": [
        "df.info()"
      ],
      "execution_count": null,
      "outputs": [
        {
          "output_type": "stream",
          "text": [
            "<class 'pandas.core.frame.DataFrame'>\n",
            "RangeIndex: 1782 entries, 0 to 1781\n",
            "Columns: 113 entries, Unnamed: 0 to womens_freedom\n",
            "dtypes: float64(108), int64(2), object(3)\n",
            "memory usage: 1.5+ MB\n"
          ],
          "name": "stdout"
        }
      ]
    },
    {
      "cell_type": "code",
      "metadata": {
        "colab": {
          "base_uri": "https://localhost:8080/"
        },
        "id": "YRUzjGCpY3bu",
        "outputId": "73e228c6-7cb8-4c83-cc46-d167478a6941"
      },
      "source": [
        "df.median()"
      ],
      "execution_count": null,
      "outputs": [
        {
          "output_type": "execute_result",
          "data": {
            "text/plain": [
              "Unnamed: 0                 890.50\n",
              "year                      2013.00\n",
              "hf_score                     6.99\n",
              "hf_rank                     78.00\n",
              "hf_quartile                  3.00\n",
              "                           ...   \n",
              "ef_regulation_business       6.60\n",
              "ef_regulation                7.10\n",
              "ef_score                     6.95\n",
              "ef_rank                     78.00\n",
              "womens_freedom               8.50\n",
              "Length: 110, dtype: float64"
            ]
          },
          "metadata": {
            "tags": []
          },
          "execution_count": 7
        }
      ]
    },
    {
      "cell_type": "code",
      "metadata": {
        "colab": {
          "base_uri": "https://localhost:8080/"
        },
        "id": "iDaECXT6ZiPW",
        "outputId": "22627d20-ca59-4892-947e-54d08fa811fd"
      },
      "source": [
        "df.isna().sum()"
      ],
      "execution_count": null,
      "outputs": [
        {
          "output_type": "execute_result",
          "data": {
            "text/plain": [
              "Unnamed: 0                 0\n",
              "year                       0\n",
              "ISO_code                   0\n",
              "countries                  0\n",
              "region                     0\n",
              "                          ..\n",
              "ef_regulation_business    84\n",
              "ef_regulation             67\n",
              "ef_score                  80\n",
              "ef_rank                   80\n",
              "womens_freedom            80\n",
              "Length: 113, dtype: int64"
            ]
          },
          "metadata": {
            "tags": []
          },
          "execution_count": 8
        }
      ]
    },
    {
      "cell_type": "markdown",
      "metadata": {
        "id": "IDvnQWf2a_HA"
      },
      "source": [
        "# Box plots"
      ]
    },
    {
      "cell_type": "code",
      "metadata": {
        "colab": {
          "base_uri": "https://localhost:8080/",
          "height": 302
        },
        "id": "pjPaVSDra8Fx",
        "outputId": "1b71059d-cd84-4b84-9163-706fd2774806"
      },
      "source": [
        "sns.set_theme(style=\"darkgrid\")\n",
        "sns.boxplot(x=\"womens_freedom\", data=df,\n",
        "            whis=[0, 100], width=.6, palette=\"vlag\")"
      ],
      "execution_count": null,
      "outputs": [
        {
          "output_type": "execute_result",
          "data": {
            "text/plain": [
              "<matplotlib.axes._subplots.AxesSubplot at 0x7fe8d2390710>"
            ]
          },
          "metadata": {
            "tags": []
          },
          "execution_count": 11
        },
        {
          "output_type": "display_data",
          "data": {
            "image/png": "[encoded data removed]",
            "text/plain": [
              "<Figure size 432x288 with 1 Axes>"
            ]
          },
          "metadata": {
            "tags": []
          }
        }
      ]
    },
    {
      "cell_type": "markdown",
      "metadata": {
        "id": "YcQyT7labB8y"
      },
      "source": [
        "# Violin plots"
      ]
    },
    {
      "cell_type": "code",
      "metadata": {
        "id": "5EEvQ-2Gh2C3"
      },
      "source": [
        "ax = sns.violinplot(x=\"year\", y=\"hf_score\", data=df)"
      ],
      "execution_count": null,
      "outputs": []
    },
    {
      "cell_type": "markdown",
      "metadata": {
        "id": "EbMlTLlObEL1"
      },
      "source": [
        "# Count plots"
      ]
    },
    {
      "cell_type": "code",
      "metadata": {
        "id": "Tf0-J3uiiNDu"
      },
      "source": [
        "sns.countplot(df.head(20)['ef_legal_police'], palette=\"Set3\")"
      ],
      "execution_count": null,
      "outputs": []
    },
    {
      "cell_type": "markdown",
      "metadata": {
        "id": "faokDFxqbIfT"
      },
      "source": [
        "# Facet grid"
      ]
    },
    {
      "cell_type": "code",
      "metadata": {
        "id": "MKVP6qQgkODi"
      },
      "source": [
        "sns.set_theme(style=\"white\", rc={\"axes.facecolor\": (0, 0, 0, 0)})\n"
      ],
      "execution_count": null,
      "outputs": []
    },
    {
      "cell_type": "markdown",
      "metadata": {
        "id": "02egP6g1bLQT"
      },
      "source": [
        "# Relplot"
      ]
    },
    {
      "cell_type": "code",
      "metadata": {
        "id": "PeRx_qAQktMS"
      },
      "source": [
        "sns.set_theme(style=\"white\")\n",
        "sns.relplot(x=\"year\", y=\"countries\", hue=\"pf_rol_criminal\",\n",
        "            sizes=(40, 400), alpha=.5, palette=\"muted\",\n",
        "            height=6, data=df.tail(200))"
      ],
      "execution_count": null,
      "outputs": []
    },
    {
      "cell_type": "markdown",
      "metadata": {
        "id": "ZoPIXA8NbOJc"
      },
      "source": [
        "# Implot"
      ]
    },
    {
      "cell_type": "code",
      "metadata": {
        "id": "n_89LQOqmiKT"
      },
      "source": [
        "sns.set_theme()\n",
        "g = sns.lmplot(\n",
        "    data=df.head(90),\n",
        "    x=\"pf_ss_women_inheritance\", y=\"hf_score\", hue=\"countries\",\n",
        "    height=5\n",
        ")"
      ],
      "execution_count": null,
      "outputs": []
    },
    {
      "cell_type": "markdown",
      "metadata": {
        "id": "BU16XRDZbQXt"
      },
      "source": [
        "# Swarm plot"
      ]
    },
    {
      "cell_type": "code",
      "metadata": {
        "id": "opLBzXp5oqXB"
      },
      "source": [
        "sns.set_theme(style=\"whitegrid\", palette=\"muted\")\n",
        "ax = sns.swarmplot(data=df.head(50), x=\"pf_religion_repression\", y=\"pf_religion_harassment\", hue=\"countries\")\n",
        "ax.set(ylabel=\"pf_religion_harassment\")"
      ],
      "execution_count": null,
      "outputs": []
    },
    {
      "cell_type": "markdown",
      "metadata": {
        "id": "A1YZdXvVbTzn"
      },
      "source": [
        "# Pair plot"
      ]
    },
    {
      "cell_type": "code",
      "metadata": {
        "id": "iN_-LCR7p7fw"
      },
      "source": [
        "sns.set_theme(style=\"ticks\")\n",
        "sns.pairplot(df.tail(2), hue=\"countries\")"
      ],
      "execution_count": null,
      "outputs": []
    },
    {
      "cell_type": "markdown",
      "metadata": {
        "id": "AEcm2PCZbVi-"
      },
      "source": [
        "# Joint plot"
      ]
    },
    {
      "cell_type": "code",
      "metadata": {
        "colab": {
          "base_uri": "https://localhost:8080/",
          "height": 526
        },
        "id": "hNA3ortxsbTN",
        "outputId": "3b18fb8d-f8f9-4bd7-a3d5-650f7f62be63"
      },
      "source": [
        "sns.set_theme(style=\"darkgrid\")\n",
        "\n",
        "sns.jointplot(x=\"ef_regulation_labor_bargain\", y=\"ef_regulation_labor_hours\", data=df.sample(7),\n",
        "                  kind=\"reg\", truncate=False,\n",
        "                  xlim=(0, 60), ylim=(0, 12),\n",
        "                  color=\"m\", height=7)"
      ],
      "execution_count": null,
      "outputs": [
        {
          "output_type": "execute_result",
          "data": {
            "text/plain": [
              "<seaborn.axisgrid.JointGrid at 0x7fe8ddba6890>"
            ]
          },
          "metadata": {
            "tags": []
          },
          "execution_count": 10
        },
        {
          "output_type": "display_data",
          "data": {
            "image/png": "[encoded data removed]",
            "text/plain": [
              "<Figure size 504x504 with 3 Axes>"
            ]
          },
          "metadata": {
            "tags": []
          }
        }
      ]
    }
  ]
}