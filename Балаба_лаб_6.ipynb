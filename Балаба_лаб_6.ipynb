{
  "nbformat": 4,
  "nbformat_minor": 0,
  "metadata": {
    "colab": {
      "name": "Балаба лаб 6.ipynb",
      "provenance": [],
      "authorship_tag": "ABX9TyMFV/UvhU+2D5aFoBdu+l/U",
      "include_colab_link": true
    },
    "kernelspec": {
      "name": "python3",
      "display_name": "Python 3"
    },
    "language_info": {
      "name": "python"
    }
  },
  "cells": [
    {
      "cell_type": "markdown",
      "metadata": {
        "id": "view-in-github",
        "colab_type": "text"
      },
      "source": [
        "<a href=\"https://colab.research.google.com/github/mariabalaba/labs/blob/main/%D0%91%D0%B0%D0%BB%D0%B0%D0%B1%D0%B0_%D0%BB%D0%B0%D0%B1_6.ipynb\" target=\"_parent\"><img src=\"https://colab.research.google.com/assets/colab-badge.svg\" alt=\"Open In Colab\"/></a>"
      ]
    },
    {
      "cell_type": "markdown",
      "metadata": {
        "id": "7J98O9H0sbdI"
      },
      "source": [
        "# 20 вариант"
      ]
    },
    {
      "cell_type": "code",
      "metadata": {
        "colab": {
          "base_uri": "https://localhost:8080/",
          "height": 204
        },
        "id": "-Q2Q9J2-sSif",
        "outputId": "63deb683-f506-45e8-c0d7-59c8a2c04d11"
      },
      "source": [
        "import requests\n",
        "import pandas as pd\n",
        "import seaborn as sns\n",
        "import matplotlib.pyplot as plt\n",
        "from matplotlib import pyplot\n",
        "import plotly.express as px\n",
        "import plotly.graph_objects as go\n",
        "from plotly.subplots import make_subplots\n",
        "#Importing the data from the webpage into a DataFrame\n",
        "url='https://en.wikipedia.org/wiki/List_of_highest-grossing_science_fiction_films'\n",
        "req=requests.get(url)\n",
        "data=pd.read_html(req.text)\n",
        "df=data[0]\n",
        "df.head()"
      ],
      "execution_count": null,
      "outputs": [
        {
          "output_type": "execute_result",
          "data": {
            "text/html": [
              "<div>\n",
              "<style scoped>\n",
              "    .dataframe tbody tr th:only-of-type {\n",
              "        vertical-align: middle;\n",
              "    }\n",
              "\n",
              "    .dataframe tbody tr th {\n",
              "        vertical-align: top;\n",
              "    }\n",
              "\n",
              "    .dataframe thead th {\n",
              "        text-align: right;\n",
              "    }\n",
              "</style>\n",
              "<table border=\"1\" class=\"dataframe\">\n",
              "  <thead>\n",
              "    <tr style=\"text-align: right;\">\n",
              "      <th></th>\n",
              "      <th>Rank</th>\n",
              "      <th>Film</th>\n",
              "      <th>Worldwide gross</th>\n",
              "      <th>Year</th>\n",
              "      <th>Ref</th>\n",
              "    </tr>\n",
              "  </thead>\n",
              "  <tbody>\n",
              "    <tr>\n",
              "      <th>0</th>\n",
              "      <td>1</td>\n",
              "      <td>Avatar</td>\n",
              "      <td>$2,846,089,541</td>\n",
              "      <td>2009</td>\n",
              "      <td>[1]</td>\n",
              "    </tr>\n",
              "    <tr>\n",
              "      <th>1</th>\n",
              "      <td>2</td>\n",
              "      <td>Star Wars: The Force Awakens</td>\n",
              "      <td>$2,068,223,624</td>\n",
              "      <td>2015</td>\n",
              "      <td>[2]</td>\n",
              "    </tr>\n",
              "    <tr>\n",
              "      <th>2</th>\n",
              "      <td>3</td>\n",
              "      <td>Jurassic World</td>\n",
              "      <td>$1,670,516,444</td>\n",
              "      <td>2015</td>\n",
              "      <td>[3]</td>\n",
              "    </tr>\n",
              "    <tr>\n",
              "      <th>3</th>\n",
              "      <td>4</td>\n",
              "      <td>Star Wars: The Last Jedi</td>\n",
              "      <td>$1,332,539,889</td>\n",
              "      <td>2017</td>\n",
              "      <td>[4]</td>\n",
              "    </tr>\n",
              "    <tr>\n",
              "      <th>4</th>\n",
              "      <td>5</td>\n",
              "      <td>Jurassic World: Fallen Kingdom</td>\n",
              "      <td>$1,308,467,944</td>\n",
              "      <td>2018</td>\n",
              "      <td>[5]</td>\n",
              "    </tr>\n",
              "  </tbody>\n",
              "</table>\n",
              "</div>"
            ],
            "text/plain": [
              "   Rank                            Film Worldwide gross  Year  Ref\n",
              "0     1                          Avatar  $2,846,089,541  2009  [1]\n",
              "1     2    Star Wars: The Force Awakens  $2,068,223,624  2015  [2]\n",
              "2     3                  Jurassic World  $1,670,516,444  2015  [3]\n",
              "3     4        Star Wars: The Last Jedi  $1,332,539,889  2017  [4]\n",
              "4     5  Jurassic World: Fallen Kingdom  $1,308,467,944  2018  [5]"
            ]
          },
          "metadata": {
            "tags": []
          },
          "execution_count": 83
        }
      ]
    },
    {
      "cell_type": "markdown",
      "metadata": {
        "id": "FPdTYJZ_N7_w"
      },
      "source": [
        "# Нормализуем таблицу"
      ]
    },
    {
      "cell_type": "code",
      "metadata": {
        "colab": {
          "base_uri": "https://localhost:8080/"
        },
        "id": "668NCAOZN-Va",
        "outputId": "a80425b3-f0d5-40cb-f5a0-fadfba51e39a"
      },
      "source": [
        "df.info()"
      ],
      "execution_count": null,
      "outputs": [
        {
          "output_type": "stream",
          "text": [
            "<class 'pandas.core.frame.DataFrame'>\n",
            "RangeIndex: 50 entries, 0 to 49\n",
            "Data columns (total 5 columns):\n",
            " #   Column           Non-Null Count  Dtype \n",
            "---  ------           --------------  ----- \n",
            " 0   Rank             50 non-null     int64 \n",
            " 1   Film             50 non-null     object\n",
            " 2   Worldwide gross  50 non-null     object\n",
            " 3   Year             50 non-null     int64 \n",
            " 4   Ref              50 non-null     object\n",
            "dtypes: int64(2), object(3)\n",
            "memory usage: 2.1+ KB\n"
          ],
          "name": "stdout"
        }
      ]
    },
    {
      "cell_type": "code",
      "metadata": {
        "id": "SW4_obpzOChk"
      },
      "source": [
        "df['Worldwide gross'] = df['Worldwide gross'].str.replace(r\"$\",\"\").str.replace(r\",\",\"\")"
      ],
      "execution_count": null,
      "outputs": []
    },
    {
      "cell_type": "code",
      "metadata": {
        "id": "ZrYGnRoROGob"
      },
      "source": [
        "df['Worldwide gross'] = df['Worldwide gross'].astype('int64')"
      ],
      "execution_count": null,
      "outputs": []
    },
    {
      "cell_type": "code",
      "metadata": {
        "id": "VV0UQCmSOK-u"
      },
      "source": [
        "df.drop(['Rank', 'Ref', 'Film'], axis=1, inplace = True)"
      ],
      "execution_count": null,
      "outputs": []
    },
    {
      "cell_type": "code",
      "metadata": {
        "id": "0g60hZYDOR1Z"
      },
      "source": [
        "df['Year'] = df['Year'].astype('int64')"
      ],
      "execution_count": null,
      "outputs": []
    },
    {
      "cell_type": "code",
      "metadata": {
        "colab": {
          "base_uri": "https://localhost:8080/"
        },
        "id": "X9EWEneNONaQ",
        "outputId": "4dda81ee-78cb-4485-b682-2d810cfd906e"
      },
      "source": [
        "df.info()"
      ],
      "execution_count": null,
      "outputs": [
        {
          "output_type": "stream",
          "text": [
            "<class 'pandas.core.frame.DataFrame'>\n",
            "RangeIndex: 50 entries, 0 to 49\n",
            "Data columns (total 2 columns):\n",
            " #   Column           Non-Null Count  Dtype\n",
            "---  ------           --------------  -----\n",
            " 0   Worldwide gross  50 non-null     int64\n",
            " 1   Year             50 non-null     int64\n",
            "dtypes: int64(2)\n",
            "memory usage: 928.0 bytes\n"
          ],
          "name": "stdout"
        }
      ]
    },
    {
      "cell_type": "code",
      "metadata": {
        "colab": {
          "base_uri": "https://localhost:8080/"
        },
        "id": "c4M2cLPAOc9l",
        "outputId": "dc08756c-ed0b-4b59-fb95-c868007a3f33"
      },
      "source": [
        "wg = df['Worldwide gross'].to_numpy()\n",
        "year = df['Year'].to_numpy()\n",
        "wg"
      ],
      "execution_count": null,
      "outputs": [
        {
          "output_type": "execute_result",
          "data": {
            "text/plain": [
              "array([2846089541, 2068223624, 1670516444, 1332539889, 1308467944,\n",
              "       1123794079, 1104054072, 1074144248, 1056057273, 1033928303,\n",
              "       1027082707,  868390560,  865011746,  836836967,  836303693,\n",
              "        817400891,  807710000,  792910554,  775398007,  755356711,\n",
              "        741847937,  723192705,  710644566,  709709780,  701729127,\n",
              "        699856699,  694394724,  658344137,  653779970,  630162235,\n",
              "        624026776,  618638999,  605425157,  603873119,  589390539,\n",
              "        585410052,  582893671,  553709788,  552639571,  538375067,\n",
              "        524976069,  521311890,  520881154,  490719763,  481800873,\n",
              "        475106177,  467989645,  467365246,  466364682,  458863600])"
            ]
          },
          "metadata": {
            "tags": []
          },
          "execution_count": 90
        }
      ]
    },
    {
      "cell_type": "code",
      "metadata": {
        "id": "uZbXs-ZJRBJl"
      },
      "source": [
        "import numpy as np\n",
        "wg_sort = np.sort(wg)\n",
        "year_sort = np.sort(year)"
      ],
      "execution_count": null,
      "outputs": []
    },
    {
      "cell_type": "markdown",
      "metadata": {
        "id": "tOHN5Nf5TTY5"
      },
      "source": [
        "# Гистограмма"
      ]
    },
    {
      "cell_type": "code",
      "metadata": {
        "colab": {
          "base_uri": "https://localhost:8080/",
          "height": 265
        },
        "id": "cSa2XMWesY6T",
        "outputId": "f9238493-b48a-4cb3-e5ce-cc4fa68bcdda"
      },
      "source": [
        "from numpy.random import seed\n",
        "from numpy.random import rand\n",
        "from numpy import mean\n",
        "from numpy import std\n",
        "# seed the random number generator\n",
        "seed(1)\n",
        "# generate univariate observations\n",
        "data = 5 * randn(100) + 50\n",
        "# histogram plot\n",
        "pyplot.hist(data)\n",
        "pyplot.show()"
      ],
      "execution_count": null,
      "outputs": [
        {
          "output_type": "display_data",
          "data": {
            "image/png": "[encoded data removed]",
            "text/plain": [
              "<Figure size 432x288 with 1 Axes>"
            ]
          },
          "metadata": {
            "tags": [],
            "needs_background": "light"
          }
        }
      ]
    },
    {
      "cell_type": "markdown",
      "metadata": {
        "id": "ky_DrtCJTaKy"
      },
      "source": [
        "**инд. задание**"
      ]
    },
    {
      "cell_type": "code",
      "metadata": {
        "colab": {
          "base_uri": "https://localhost:8080/",
          "height": 299
        },
        "id": "3nFH0HhYTc9k",
        "outputId": "58d2a36e-d21b-40da-886d-b947008459eb"
      },
      "source": [
        "fig, ax = plt.subplots()\n",
        "ax.hist(wg_sort)\n",
        "ax.set_xlabel('Worldwide Gross')\n",
        "ax.set_ylabel('Frequency')"
      ],
      "execution_count": null,
      "outputs": [
        {
          "output_type": "execute_result",
          "data": {
            "text/plain": [
              "Text(0, 0.5, 'Frequency')"
            ]
          },
          "metadata": {
            "tags": []
          },
          "execution_count": 93
        },
        {
          "output_type": "display_data",
          "data": {
            "image/png": "[encoded data removed]",
            "text/plain": [
              "<Figure size 432x288 with 1 Axes>"
            ]
          },
          "metadata": {
            "tags": [],
            "needs_background": "light"
          }
        }
      ]
    },
    {
      "cell_type": "code",
      "metadata": {
        "colab": {
          "base_uri": "https://localhost:8080/",
          "height": 296
        },
        "id": "I6MS0Dm5Tz5K",
        "outputId": "db43f286-8acd-46ba-a75f-b561da8d62e1"
      },
      "source": [
        "fig, ax = plt.subplots()\n",
        "ax.hist(year_sort)\n",
        "ax.set_xlabel('Year')\n",
        "ax.set_ylabel('Frequency')"
      ],
      "execution_count": null,
      "outputs": [
        {
          "output_type": "execute_result",
          "data": {
            "text/plain": [
              "Text(0, 0.5, 'Frequency')"
            ]
          },
          "metadata": {
            "tags": []
          },
          "execution_count": 94
        },
        {
          "output_type": "display_data",
          "data": {
            "image/png": "[encoded data removed]",
            "text/plain": [
              "<Figure size 432x288 with 1 Axes>"
            ]
          },
          "metadata": {
            "tags": [],
            "needs_background": "light"
          }
        }
      ]
    },
    {
      "cell_type": "markdown",
      "metadata": {
        "id": "WLCsnUE5T6-S"
      },
      "source": [
        "#График QQ"
      ]
    },
    {
      "cell_type": "code",
      "metadata": {
        "colab": {
          "base_uri": "https://localhost:8080/",
          "height": 279
        },
        "id": "obsVXG3dUAh2",
        "outputId": "3b981168-ae6c-44b6-ca41-d8e195bafec6"
      },
      "source": [
        "# QQ Plot\n",
        "from numpy.random import seed\n",
        "from numpy.random import randn\n",
        "from statsmodels.graphics.gofplots import qqplot\n",
        "from matplotlib import pyplot\n",
        "# seed the random number generator\n",
        "seed(1)\n",
        "# generate univariate observations\n",
        "data = 5 * randn(100) + 50\n",
        "# q-q plot\n",
        "qqplot(data, line='s')\n",
        "pyplot.show()"
      ],
      "execution_count": null,
      "outputs": [
        {
          "output_type": "display_data",
          "data": {
            "image/png": "[encoded data removed]",
            "text/plain": [
              "<Figure size 432x288 with 1 Axes>"
            ]
          },
          "metadata": {
            "tags": [],
            "needs_background": "light"
          }
        }
      ]
    },
    {
      "cell_type": "markdown",
      "metadata": {
        "id": "8ubXTBHCUDjB"
      },
      "source": [
        "**инд. задание**"
      ]
    },
    {
      "cell_type": "code",
      "metadata": {
        "colab": {
          "base_uri": "https://localhost:8080/",
          "height": 290
        },
        "id": "NlU8Wji-UGTB",
        "outputId": "3c703dae-d243-447e-d8b9-bcec672cc382"
      },
      "source": [
        "qqplot(wg_sort, line = 's')\n",
        "pyplot.show()"
      ],
      "execution_count": null,
      "outputs": [
        {
          "output_type": "display_data",
          "data": {
            "image/png": "[encoded data removed]",
            "text/plain": [
              "<Figure size 432x288 with 1 Axes>"
            ]
          },
          "metadata": {
            "tags": [],
            "needs_background": "light"
          }
        }
      ]
    },
    {
      "cell_type": "code",
      "metadata": {
        "colab": {
          "base_uri": "https://localhost:8080/",
          "height": 279
        },
        "id": "h5EPtGawURp-",
        "outputId": "3210130e-572a-48d6-e8d8-59ac23cafa61"
      },
      "source": [
        "qqplot(year_sort, line = 's')\n",
        "pyplot.show()"
      ],
      "execution_count": null,
      "outputs": [
        {
          "output_type": "display_data",
          "data": {
            "image/png": "[encoded data removed]",
            "text/plain": [
              "<Figure size 432x288 with 1 Axes>"
            ]
          },
          "metadata": {
            "tags": [],
            "needs_background": "light"
          }
        }
      ]
    },
    {
      "cell_type": "markdown",
      "metadata": {
        "id": "pRnAiTPNEKHz"
      },
      "source": [
        "# Тест Шапиро-Вилка"
      ]
    },
    {
      "cell_type": "code",
      "metadata": {
        "colab": {
          "base_uri": "https://localhost:8080/"
        },
        "id": "XOvOI-z-uSze",
        "outputId": "203141f4-4ff9-4de3-81d8-e997f68bb80d"
      },
      "source": [
        "# Shapiro-Wilk Test\n",
        "from numpy.random import seed\n",
        "from numpy.random import randn\n",
        "from scipy.stats import shapiro\n",
        "# seed the random number generator\n",
        "seed(1)\n",
        "# generate univariate observations\n",
        "data = 5*randn(100) + 50\n",
        "# normality test\n",
        "stat, p = shapiro(data)\n",
        "print('Statistics = %.3f, p=%.3f' % (stat,p))\n",
        "# interpret\n",
        "alpha = 0.05\n",
        "if p > alpha:\n",
        "  print('Sample looks Gaussian (fail to reject H0)')\n",
        "else:  \n",
        "  print('Sample does not look Gaussian (reject H0)')"
      ],
      "execution_count": null,
      "outputs": [
        {
          "output_type": "stream",
          "text": [
            "Statistics = 0.992, p=0.822\n",
            "Sample looks Gaussian (fail to reject H0)\n"
          ],
          "name": "stdout"
        }
      ]
    },
    {
      "cell_type": "markdown",
      "metadata": {
        "id": "LDeSUNRJRr6g"
      },
      "source": [
        "**инд. задание**"
      ]
    },
    {
      "cell_type": "code",
      "metadata": {
        "colab": {
          "base_uri": "https://localhost:8080/"
        },
        "id": "tuYzIkXZQuWw",
        "outputId": "242ae349-fc62-4629-d9dc-6bfbe5121c1c"
      },
      "source": [
        "stat, p = shapiro(wg_sort)\n",
        "print('Statistics=%.3f, p = %.3f' % (stat, p))\n",
        "\n",
        "alpha = 0.05\n",
        "if p > alpha:\n",
        "  print('Sample looks Gaussian (fail to reject HO)')\n",
        "else:\n",
        "  print('Sample does not look Gaussian (reject HO)')"
      ],
      "execution_count": null,
      "outputs": [
        {
          "output_type": "stream",
          "text": [
            "Statistics=0.696, p = 0.000\n",
            "Sample does not look Gaussian (reject HO)\n"
          ],
          "name": "stdout"
        }
      ]
    },
    {
      "cell_type": "code",
      "metadata": {
        "colab": {
          "base_uri": "https://localhost:8080/"
        },
        "id": "IP11Ho8QRnNA",
        "outputId": "40f8ea0f-7ef2-4218-f179-a48ca36d3131"
      },
      "source": [
        "stat, p = shapiro(year_sort)\n",
        "print('Statistics=%.3f, p = %.3f' % (stat, p))\n",
        "\n",
        "alpha = 0.05\n",
        "if p > alpha:\n",
        "  print('Sample looks Gaussian (fail to reject HO)')\n",
        "else:\n",
        "  print('Sample does not look Gaussian (reject HO)')"
      ],
      "execution_count": null,
      "outputs": [
        {
          "output_type": "stream",
          "text": [
            "Statistics=0.867, p = 0.000\n",
            "Sample does not look Gaussian (reject HO)\n"
          ],
          "name": "stdout"
        }
      ]
    },
    {
      "cell_type": "markdown",
      "metadata": {
        "id": "obslZ04gF9di"
      },
      "source": [
        "# Тест д'Агостино на K ^ 2"
      ]
    },
    {
      "cell_type": "code",
      "metadata": {
        "colab": {
          "base_uri": "https://localhost:8080/"
        },
        "id": "fojmqgaeGBjN",
        "outputId": "9c63ce69-20a8-4e84-83a5-a7f1d9ed63b7"
      },
      "source": [
        "from numpy.random import seed\n",
        "from numpy.random import randn\n",
        "from scipy.stats import normaltest\n",
        "# seed the random number generator\n",
        "seed(1)\n",
        "# generate univariate observations\n",
        "data = 5 * randn(100) + 50\n",
        "# normality test\n",
        "stat, p = normaltest(data)\n",
        "print('Statistics=%.3f, p=%.3f' % (stat, p))\n",
        "# interpret\n",
        "alpha = 0.05\n",
        "if p > alpha:\n",
        "\tprint('Sample looks Gaussian (fail to reject H0)')\n",
        "else:\n",
        "\tprint('Sample does not look Gaussian (reject H0)')"
      ],
      "execution_count": null,
      "outputs": [
        {
          "output_type": "stream",
          "text": [
            "Statistics=0.102, p=0.950\n",
            "Sample looks Gaussian (fail to reject H0)\n"
          ],
          "name": "stdout"
        }
      ]
    },
    {
      "cell_type": "markdown",
      "metadata": {
        "id": "EB20-F7_R0DA"
      },
      "source": [
        "**инд. задание**"
      ]
    },
    {
      "cell_type": "code",
      "metadata": {
        "colab": {
          "base_uri": "https://localhost:8080/"
        },
        "id": "gRzwlSzqR2AC",
        "outputId": "e4b4d3c1-2310-4db8-9552-9aa155e04d25"
      },
      "source": [
        "stat, p = normaltest(wg_sort)\n",
        "print('Statistics=%.3f, p = %.3f' % (stat, p))\n",
        "\n",
        "alpha = 0.05\n",
        "if p > alpha:\n",
        "  print('Sample looks Gaussian (fail to reject HO)')\n",
        "else:\n",
        "  print('Sample does not look Gaussian (reject HO)')"
      ],
      "execution_count": null,
      "outputs": [
        {
          "output_type": "stream",
          "text": [
            "Statistics=52.103, p = 0.000\n",
            "Sample does not look Gaussian (reject HO)\n"
          ],
          "name": "stdout"
        }
      ]
    },
    {
      "cell_type": "code",
      "metadata": {
        "colab": {
          "base_uri": "https://localhost:8080/"
        },
        "id": "Z3vGtCh-SMUw",
        "outputId": "03d37d92-5f58-41cc-f75e-119c47e8f596"
      },
      "source": [
        "stat, p = normaltest(year_sort)\n",
        "print('Statistics=%.3f, p = %.3f' % (stat, p))\n",
        "\n",
        "alpha = 0.05\n",
        "if p > alpha:\n",
        "  print('Sample looks Gaussian (fail to reject HO)')\n",
        "else:\n",
        "  print('Sample does not look Gaussian (reject HO)')"
      ],
      "execution_count": null,
      "outputs": [
        {
          "output_type": "stream",
          "text": [
            "Statistics=12.565, p = 0.002\n",
            "Sample does not look Gaussian (reject HO)\n"
          ],
          "name": "stdout"
        }
      ]
    },
    {
      "cell_type": "markdown",
      "metadata": {
        "id": "kGJbSmnHGpOI"
      },
      "source": [
        "# Тест Андерсона-Дарлинга"
      ]
    },
    {
      "cell_type": "code",
      "metadata": {
        "colab": {
          "base_uri": "https://localhost:8080/"
        },
        "id": "YwpQLol5Gr00",
        "outputId": "0f1da952-bfd6-4269-d495-e62691311c98"
      },
      "source": [
        "# Anderson-Darling Test\n",
        "from numpy.random import seed \n",
        "from numpy.random import randn \n",
        "from scipy.stats import anderson\n",
        "# seed the random number generator\n",
        "seed(1)\n",
        "# generate univariate observations\n",
        "data = 5*randn(100) + 50\n",
        "# normality test\n",
        "result = anderson(data)\n",
        "print('Statistics: %.3f' % result.statistic)\n",
        "p = 0\n",
        "for i in range(len(result.critical_values)):\n",
        "  sl, cv = result.significance_level[i], result.critical_values[i]\n",
        "  if result.statistic < result.critical_values[i]:\n",
        "    print('%.3f: %.3f, data looks normal (fail to reject H0)'%(sl, cv))\n",
        "  else:\n",
        "    print('%.3f: %.3f, data does not look normal (reject H0)'%(sl, cv))  "
      ],
      "execution_count": null,
      "outputs": [
        {
          "output_type": "stream",
          "text": [
            "Statistics: 0.220\n",
            "15.000: 0.555, data looks normal (fail to reject H0)\n",
            "10.000: 0.632, data looks normal (fail to reject H0)\n",
            "5.000: 0.759, data looks normal (fail to reject H0)\n",
            "2.500: 0.885, data looks normal (fail to reject H0)\n",
            "1.000: 1.053, data looks normal (fail to reject H0)\n"
          ],
          "name": "stdout"
        }
      ]
    },
    {
      "cell_type": "markdown",
      "metadata": {
        "id": "8e9FfXOrSSqS"
      },
      "source": [
        "**инд. задание**"
      ]
    },
    {
      "cell_type": "code",
      "metadata": {
        "colab": {
          "base_uri": "https://localhost:8080/"
        },
        "id": "is34Dbg2SW7N",
        "outputId": "ac893b0b-97d7-4615-fdf2-ad63576f8d50"
      },
      "source": [
        "result = anderson(wg_sort)\n",
        "print('Statistic: %.3f' % result.statistic)\n",
        "\n",
        "p = 0\n",
        "for i in range(len(result.critical_values)):\n",
        "  sl, cv = result.significance_level[i], result.critical_values[i]\n",
        "  if result.statistic < result.critical_values[i]:\n",
        "    print('%.3f: %.3f, data looks normal (fail to reject HO)' % (sl, cv))\n",
        "  else:\n",
        "    print('%.3f: %.3f, data does not look normal (reject HO)' % (sl, cv))"
      ],
      "execution_count": null,
      "outputs": [
        {
          "output_type": "stream",
          "text": [
            "Statistic: 4.124\n",
            "15.000: 0.538, data does not look normal (reject HO)\n",
            "10.000: 0.613, data does not look normal (reject HO)\n",
            "5.000: 0.736, data does not look normal (reject HO)\n",
            "2.500: 0.858, data does not look normal (reject HO)\n",
            "1.000: 1.021, data does not look normal (reject HO)\n"
          ],
          "name": "stdout"
        }
      ]
    },
    {
      "cell_type": "code",
      "metadata": {
        "colab": {
          "base_uri": "https://localhost:8080/"
        },
        "id": "E9TT77dTScmH",
        "outputId": "ba4018f9-e57f-49f4-cf29-604b39c046c2"
      },
      "source": [
        "result = anderson(year_sort)\n",
        "print('Statistic: %.3f' % result.statistic)\n",
        "\n",
        "p = 0\n",
        "for i in range(len(result.critical_values)):\n",
        "  sl, cv = result.significance_level[i], result.critical_values[i]\n",
        "  if result.statistic < result.critical_values[i]:\n",
        "    print('%.3f: %.3f, data looks normal (fail to reject HO)' % (sl, cv))\n",
        "  else:\n",
        "    print('%.3f: %.3f, data does not look normal (reject HO)' % (sl, cv))"
      ],
      "execution_count": null,
      "outputs": [
        {
          "output_type": "stream",
          "text": [
            "Statistic: 2.239\n",
            "15.000: 0.538, data does not look normal (reject HO)\n",
            "10.000: 0.613, data does not look normal (reject HO)\n",
            "5.000: 0.736, data does not look normal (reject HO)\n",
            "2.500: 0.858, data does not look normal (reject HO)\n",
            "1.000: 1.021, data does not look normal (reject HO)\n"
          ],
          "name": "stdout"
        }
      ]
    }
  ]
}